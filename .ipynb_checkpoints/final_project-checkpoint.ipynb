{
 "cells": [
  {
   "cell_type": "code",
   "execution_count": 203,
   "id": "ce9ce9f1-6c67-4c54-8813-9abf0c65ba44",
   "metadata": {},
   "outputs": [],
   "source": [
    "import pandas as pd "
   ]
  },
  {
   "cell_type": "code",
   "execution_count": 206,
   "id": "a5f17377-aa24-4ed1-b1d9-30b5fbffe0c1",
   "metadata": {},
   "outputs": [],
   "source": [
    "df_tourism = pd.read_csv(r\"C:\\Users\\sarah\\OneDrive\\Documentos\\GitHub\\final project\\tourism_dataset.csv\")"
   ]
  },
  {
   "cell_type": "code",
   "execution_count": 208,
   "id": "76e83fd2-ec63-40a6-b43f-a992f9cff9c8",
   "metadata": {},
   "outputs": [
    {
     "data": {
      "text/html": [
       "<div>\n",
       "<style scoped>\n",
       "    .dataframe tbody tr th:only-of-type {\n",
       "        vertical-align: middle;\n",
       "    }\n",
       "\n",
       "    .dataframe tbody tr th {\n",
       "        vertical-align: top;\n",
       "    }\n",
       "\n",
       "    .dataframe thead th {\n",
       "        text-align: right;\n",
       "    }\n",
       "</style>\n",
       "<table border=\"1\" class=\"dataframe\">\n",
       "  <thead>\n",
       "    <tr style=\"text-align: right;\">\n",
       "      <th></th>\n",
       "      <th>Location</th>\n",
       "      <th>Country</th>\n",
       "      <th>Category</th>\n",
       "      <th>Visitors</th>\n",
       "      <th>Rating</th>\n",
       "      <th>Revenue</th>\n",
       "      <th>Accommodation_Available</th>\n",
       "    </tr>\n",
       "  </thead>\n",
       "  <tbody>\n",
       "    <tr>\n",
       "      <th>0</th>\n",
       "      <td>kuBZRkVsAR</td>\n",
       "      <td>India</td>\n",
       "      <td>Nature</td>\n",
       "      <td>948853</td>\n",
       "      <td>1.32</td>\n",
       "      <td>84388.38</td>\n",
       "      <td>Yes</td>\n",
       "    </tr>\n",
       "    <tr>\n",
       "      <th>1</th>\n",
       "      <td>aHKUXhjzTo</td>\n",
       "      <td>USA</td>\n",
       "      <td>Historical</td>\n",
       "      <td>813627</td>\n",
       "      <td>2.01</td>\n",
       "      <td>802625.60</td>\n",
       "      <td>No</td>\n",
       "    </tr>\n",
       "    <tr>\n",
       "      <th>2</th>\n",
       "      <td>dlrdYtJFTA</td>\n",
       "      <td>Brazil</td>\n",
       "      <td>Nature</td>\n",
       "      <td>508673</td>\n",
       "      <td>1.42</td>\n",
       "      <td>338777.11</td>\n",
       "      <td>Yes</td>\n",
       "    </tr>\n",
       "    <tr>\n",
       "      <th>3</th>\n",
       "      <td>DxmlzdGkHK</td>\n",
       "      <td>Brazil</td>\n",
       "      <td>Historical</td>\n",
       "      <td>623329</td>\n",
       "      <td>1.09</td>\n",
       "      <td>295183.60</td>\n",
       "      <td>Yes</td>\n",
       "    </tr>\n",
       "    <tr>\n",
       "      <th>4</th>\n",
       "      <td>WJCCQlepnz</td>\n",
       "      <td>France</td>\n",
       "      <td>Cultural</td>\n",
       "      <td>124867</td>\n",
       "      <td>1.43</td>\n",
       "      <td>547893.24</td>\n",
       "      <td>No</td>\n",
       "    </tr>\n",
       "    <tr>\n",
       "      <th>...</th>\n",
       "      <td>...</td>\n",
       "      <td>...</td>\n",
       "      <td>...</td>\n",
       "      <td>...</td>\n",
       "      <td>...</td>\n",
       "      <td>...</td>\n",
       "      <td>...</td>\n",
       "    </tr>\n",
       "    <tr>\n",
       "      <th>5984</th>\n",
       "      <td>xAzwnVKAqz</td>\n",
       "      <td>USA</td>\n",
       "      <td>Urban</td>\n",
       "      <td>828137</td>\n",
       "      <td>1.97</td>\n",
       "      <td>132848.78</td>\n",
       "      <td>No</td>\n",
       "    </tr>\n",
       "    <tr>\n",
       "      <th>5985</th>\n",
       "      <td>IfKotyaJFC</td>\n",
       "      <td>France</td>\n",
       "      <td>Nature</td>\n",
       "      <td>276317</td>\n",
       "      <td>3.53</td>\n",
       "      <td>325183.96</td>\n",
       "      <td>Yes</td>\n",
       "    </tr>\n",
       "    <tr>\n",
       "      <th>5986</th>\n",
       "      <td>bPyubCWGgA</td>\n",
       "      <td>Egypt</td>\n",
       "      <td>Beach</td>\n",
       "      <td>809198</td>\n",
       "      <td>3.37</td>\n",
       "      <td>927336.50</td>\n",
       "      <td>No</td>\n",
       "    </tr>\n",
       "    <tr>\n",
       "      <th>5987</th>\n",
       "      <td>kkWIucpBnu</td>\n",
       "      <td>Egypt</td>\n",
       "      <td>Cultural</td>\n",
       "      <td>808303</td>\n",
       "      <td>2.52</td>\n",
       "      <td>115791.43</td>\n",
       "      <td>Yes</td>\n",
       "    </tr>\n",
       "    <tr>\n",
       "      <th>5988</th>\n",
       "      <td>gHXUrdticm</td>\n",
       "      <td>France</td>\n",
       "      <td>Cultural</td>\n",
       "      <td>40939</td>\n",
       "      <td>4.65</td>\n",
       "      <td>957026.85</td>\n",
       "      <td>Yes</td>\n",
       "    </tr>\n",
       "  </tbody>\n",
       "</table>\n",
       "<p>5989 rows × 7 columns</p>\n",
       "</div>"
      ],
      "text/plain": [
       "        Location Country    Category  Visitors  Rating    Revenue  \\\n",
       "0     kuBZRkVsAR   India      Nature    948853    1.32   84388.38   \n",
       "1     aHKUXhjzTo     USA  Historical    813627    2.01  802625.60   \n",
       "2     dlrdYtJFTA  Brazil      Nature    508673    1.42  338777.11   \n",
       "3     DxmlzdGkHK  Brazil  Historical    623329    1.09  295183.60   \n",
       "4     WJCCQlepnz  France    Cultural    124867    1.43  547893.24   \n",
       "...          ...     ...         ...       ...     ...        ...   \n",
       "5984  xAzwnVKAqz     USA       Urban    828137    1.97  132848.78   \n",
       "5985  IfKotyaJFC  France      Nature    276317    3.53  325183.96   \n",
       "5986  bPyubCWGgA   Egypt       Beach    809198    3.37  927336.50   \n",
       "5987  kkWIucpBnu   Egypt    Cultural    808303    2.52  115791.43   \n",
       "5988  gHXUrdticm  France    Cultural     40939    4.65  957026.85   \n",
       "\n",
       "     Accommodation_Available  \n",
       "0                        Yes  \n",
       "1                         No  \n",
       "2                        Yes  \n",
       "3                        Yes  \n",
       "4                         No  \n",
       "...                      ...  \n",
       "5984                      No  \n",
       "5985                     Yes  \n",
       "5986                      No  \n",
       "5987                     Yes  \n",
       "5988                     Yes  \n",
       "\n",
       "[5989 rows x 7 columns]"
      ]
     },
     "execution_count": 208,
     "metadata": {},
     "output_type": "execute_result"
    }
   ],
   "source": [
    "df_tourism"
   ]
  },
  {
   "cell_type": "code",
   "execution_count": 210,
   "id": "b53790a9-53c0-4689-a8cd-e311fd70fc06",
   "metadata": {},
   "outputs": [
    {
     "data": {
      "text/plain": [
       "Index(['Location', 'Country', 'Category', 'Visitors', 'Rating', 'Revenue',\n",
       "       'Accommodation_Available'],\n",
       "      dtype='object')"
      ]
     },
     "execution_count": 210,
     "metadata": {},
     "output_type": "execute_result"
    }
   ],
   "source": [
    "df_tourism.columns"
   ]
  },
  {
   "cell_type": "code",
   "execution_count": 212,
   "id": "9a489810-bc2c-4acc-910d-1ee1b760fd6f",
   "metadata": {},
   "outputs": [],
   "source": [
    "df_tourism = df_tourism.drop(columns = ['Location'], axis=1) "
   ]
  },
  {
   "cell_type": "code",
   "execution_count": 220,
   "id": "bd039ae4-0a6c-4fe1-b748-08534dc8fd79",
   "metadata": {},
   "outputs": [
    {
     "data": {
      "text/plain": [
       "Country                    False\n",
       "Category                   False\n",
       "Visitors                   False\n",
       "Rating                     False\n",
       "Revenue                    False\n",
       "Accommodation_Available    False\n",
       "dtype: bool"
      ]
     },
     "execution_count": 220,
     "metadata": {},
     "output_type": "execute_result"
    }
   ],
   "source": [
    "df_tourism.isna().any()"
   ]
  },
  {
   "cell_type": "code",
   "execution_count": 224,
   "id": "0bc0bb92-6c46-4e67-8a99-a06ba493840b",
   "metadata": {},
   "outputs": [
    {
     "data": {
      "text/plain": [
       "505038.14970394736"
      ]
     },
     "execution_count": 224,
     "metadata": {},
     "output_type": "execute_result"
    }
   ],
   "source": [
    "df_tourism[df_tourism['Country'] == 'Egypt']['Revenue'].mean()\n"
   ]
  },
  {
   "cell_type": "code",
   "execution_count": null,
   "id": "6ff340a5-49c4-4a5c-98bc-a6f9d2c44907",
   "metadata": {},
   "outputs": [],
   "source": []
  }
 ],
 "metadata": {
  "kernelspec": {
   "display_name": "Python [conda env:base] *",
   "language": "python",
   "name": "conda-base-py"
  },
  "language_info": {
   "codemirror_mode": {
    "name": "ipython",
    "version": 3
   },
   "file_extension": ".py",
   "mimetype": "text/x-python",
   "name": "python",
   "nbconvert_exporter": "python",
   "pygments_lexer": "ipython3",
   "version": "3.12.7"
  }
 },
 "nbformat": 4,
 "nbformat_minor": 5
}
